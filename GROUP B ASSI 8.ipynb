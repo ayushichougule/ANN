{
 "cells": [
  {
   "cell_type": "code",
   "execution_count": 1,
   "id": "6089e626-cd59-471b-a0ea-11278e8fd33e",
   "metadata": {},
   "outputs": [],
   "source": [
    "import numpy as np"
   ]
  },
  {
   "cell_type": "code",
   "execution_count": 2,
   "id": "8c0eb706-90bb-4530-92fa-14782dd9260e",
   "metadata": {},
   "outputs": [],
   "source": [
    "#define the input patterns\n",
    "x1=[[1,1,1,1]];\n",
    "x2=[[1,-1,-1,1]];\n",
    "x3=[[-1,1,-1,-1]];\n",
    "x4=[[1,-1,-1,-1]];"
   ]
  },
  {
   "cell_type": "code",
   "execution_count": 3,
   "id": "e8eb488a-8f87-490c-9800-f20c66753511",
   "metadata": {},
   "outputs": [],
   "source": [
    "#transpose of the input patterns\n",
    "x11=np.transpose(x1)\n",
    "x21=np.transpose(x2)\n",
    "x31=np.transpose(x3)\n",
    "x41=np.transpose(x4)"
   ]
  },
  {
   "cell_type": "code",
   "execution_count": 6,
   "id": "3355adb3-b6ea-4e84-90b0-64b4daac2f1b",
   "metadata": {},
   "outputs": [],
   "source": [
    "#calculate the weight matrices \n",
    "w1=x1*x11\n",
    "w2=x2*x21\n",
    "w3=x3*x31\n",
    "w4=x4*x41"
   ]
  },
  {
   "cell_type": "code",
   "execution_count": 8,
   "id": "dcc01c23-42ba-48dc-bb96-8128bc0e02e8",
   "metadata": {},
   "outputs": [
    {
     "name": "stdout",
     "output_type": "stream",
     "text": [
      "[[ 4 -2  0  2]\n",
      " [-2  4  2  0]\n",
      " [ 0  2  4  2]\n",
      " [ 2  0  2  4]]\n"
     ]
    }
   ],
   "source": [
    "#calculate the sum of the weight matrices\n",
    "w=w1+w2+w3+w4\n",
    "print(w)\n"
   ]
  },
  {
   "cell_type": "code",
   "execution_count": 10,
   "id": "4c891820-3d19-4ed7-9d61-a05d090e43bf",
   "metadata": {},
   "outputs": [
    {
     "name": "stdout",
     "output_type": "stream",
     "text": [
      "[[ 0 -2  0  2]\n",
      " [-2  0  2  0]\n",
      " [ 0  2  0  2]\n",
      " [ 2  0  2  0]]\n"
     ]
    }
   ],
   "source": [
    "#make diagonal elements zero\n",
    "np.fill_diagonal(w,0)\n",
    "print(w)"
   ]
  },
  {
   "cell_type": "code",
   "execution_count": 11,
   "id": "e7d144da-57a7-4295-ac3f-826f79d86d27",
   "metadata": {},
   "outputs": [
    {
     "name": "stdout",
     "output_type": "stream",
     "text": [
      "[[0 0 4 4]]\n"
     ]
    }
   ],
   "source": [
    "#calculte test recall for x1\n",
    "xt1=np.dot(x1,w)\n",
    "print(xt1)"
   ]
  },
  {
   "cell_type": "code",
   "execution_count": 13,
   "id": "5079c6b9-fb03-4fe9-8e9b-d406c6daf5bf",
   "metadata": {},
   "outputs": [],
   "source": [
    "#define activation function\n",
    "def activate(x,theta=0):\n",
    "    return np.where(x>theta,1,np.where(x==theta,x,0))"
   ]
  },
  {
   "cell_type": "code",
   "execution_count": 14,
   "id": "4d397a1d-26fa-4ee8-952d-1acb04ed68f1",
   "metadata": {},
   "outputs": [
    {
     "name": "stdout",
     "output_type": "stream",
     "text": [
      "[[0 0 1 1]]\n"
     ]
    }
   ],
   "source": [
    "#apply activation to xt1\n",
    "xt1_act=activate(xt1)\n",
    "print(xt1_act)"
   ]
  },
  {
   "cell_type": "code",
   "execution_count": 16,
   "id": "833b1d25-4c02-4b9a-907c-82ce9f1f7fba",
   "metadata": {},
   "outputs": [
    {
     "name": "stdout",
     "output_type": "stream",
     "text": [
      "Testing failed\n"
     ]
    }
   ],
   "source": [
    "#test recall\n",
    "if np.array_equal(x1,xt1_act):\n",
    "    print(\"Testing complete\")\n",
    "else:\n",
    "    print(\"Testing failed\")"
   ]
  },
  {
   "cell_type": "code",
   "execution_count": null,
   "id": "ef6b7d05-98da-47fc-b968-c852218a01ee",
   "metadata": {},
   "outputs": [],
   "source": []
  }
 ],
 "metadata": {
  "kernelspec": {
   "display_name": "Python 3 (ipykernel)",
   "language": "python",
   "name": "python3"
  },
  "language_info": {
   "codemirror_mode": {
    "name": "ipython",
    "version": 3
   },
   "file_extension": ".py",
   "mimetype": "text/x-python",
   "name": "python",
   "nbconvert_exporter": "python",
   "pygments_lexer": "ipython3",
   "version": "3.11.4"
  }
 },
 "nbformat": 4,
 "nbformat_minor": 5
}
