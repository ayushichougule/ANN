{
 "cells": [
  {
   "cell_type": "markdown",
   "id": "b6dc8cb0-a32e-47c4-b169-753f0a728f2a",
   "metadata": {},
   "source": [
    "Group A ASSI 3"
   ]
  },
  {
   "cell_type": "code",
   "execution_count": 1,
   "id": "428d9b01-ab3b-4b6d-aedb-5fce1fae6cf7",
   "metadata": {},
   "outputs": [],
   "source": [
    "import numpy as np"
   ]
  },
  {
   "cell_type": "code",
   "execution_count": 2,
   "id": "b9256d25-cdd3-4b1a-8006-5052c2da7d52",
   "metadata": {},
   "outputs": [],
   "source": [
    "#decimal to binary function\n",
    "def to_binary(num):\n",
    "    temp=[]\n",
    "    while(num):\n",
    "        temp.append(num%2)\n",
    "        num=int(num/2)\n",
    "    return temp[::-1]"
   ]
  },
  {
   "cell_type": "code",
   "execution_count": 3,
   "id": "111ea955-ab45-4769-810c-ee29e2098829",
   "metadata": {},
   "outputs": [],
   "source": [
    "#input vectors\n",
    "x=[]\n",
    "for item in '0123456789':\n",
    "    ascii_value=ord(item)\n",
    "    x.append(to_binary(ascii_value))\n",
    "x=np.array(x)"
   ]
  },
  {
   "cell_type": "code",
   "execution_count": 4,
   "id": "2752d5d9-081d-4a72-ac12-236c6607e2eb",
   "metadata": {},
   "outputs": [
    {
     "data": {
      "text/plain": [
       "array([[1, 1, 0, 0, 0, 0],\n",
       "       [1, 1, 0, 0, 0, 1],\n",
       "       [1, 1, 0, 0, 1, 0],\n",
       "       [1, 1, 0, 0, 1, 1],\n",
       "       [1, 1, 0, 1, 0, 0],\n",
       "       [1, 1, 0, 1, 0, 1],\n",
       "       [1, 1, 0, 1, 1, 0],\n",
       "       [1, 1, 0, 1, 1, 1],\n",
       "       [1, 1, 1, 0, 0, 0],\n",
       "       [1, 1, 1, 0, 0, 1]])"
      ]
     },
     "execution_count": 4,
     "metadata": {},
     "output_type": "execute_result"
    }
   ],
   "source": [
    "x"
   ]
  },
  {
   "cell_type": "code",
   "execution_count": 5,
   "id": "eb8af130-c79b-4d97-93f0-1139de060e5b",
   "metadata": {},
   "outputs": [
    {
     "data": {
      "text/plain": [
       "(1, -1, 1, -1, 1, -1, 1, -1, 1, -1)"
      ]
     },
     "execution_count": 5,
     "metadata": {},
     "output_type": "execute_result"
    }
   ],
   "source": [
    "#output vectors\n",
    "t=(1,-1,1,-1,1,-1,1,-1,1,-1)\n",
    "t"
   ]
  },
  {
   "cell_type": "code",
   "execution_count": 6,
   "id": "ebb034a7-fc52-4502-ac58-17f1fdaf0493",
   "metadata": {},
   "outputs": [
    {
     "data": {
      "text/plain": [
       "array([1., 1., 1., 1., 1., 1.])"
      ]
     },
     "execution_count": 6,
     "metadata": {},
     "output_type": "execute_result"
    }
   ],
   "source": [
    "#assign weights\n",
    "wts=np.ones(6)\n",
    "wts"
   ]
  },
  {
   "cell_type": "code",
   "execution_count": 7,
   "id": "2479875f-17cf-47a0-83de-b5d99bd234e7",
   "metadata": {},
   "outputs": [],
   "source": [
    "#theta and alpha\n",
    "theta=0.2\n",
    "lr=1"
   ]
  },
  {
   "cell_type": "code",
   "execution_count": 8,
   "id": "ef9323b6-c147-46f4-b580-7a70a9b77a49",
   "metadata": {},
   "outputs": [],
   "source": [
    "#activation function\n",
    "def caly(y):\n",
    "    if y>=theta:\n",
    "        return 1\n",
    "    else:\n",
    "        return -1"
   ]
  },
  {
   "cell_type": "code",
   "execution_count": 11,
   "id": "03e735b8-c7cb-4246-bd76-22bad0a757c5",
   "metadata": {},
   "outputs": [],
   "source": [
    "#weight updation\n",
    "def weight_update(w,t,x):\n",
    "    for i in range(6):\n",
    "        w[i]=w[i]+(lr*t*x[i])"
   ]
  },
  {
   "cell_type": "code",
   "execution_count": 12,
   "id": "fbe3fdd4-e259-49ce-9eb7-96745cc1ce4b",
   "metadata": {},
   "outputs": [],
   "source": [
    "#model building\n",
    "epoch=0\n",
    "while(epoch!=10):\n",
    "    for i in range(10):\n",
    "        yin=0\n",
    "        for j in range(6):\n",
    "            yin+=x[i][j]*wts[j]\n",
    "        ycal=caly(yin)\n",
    "        if ycal!=t[i]:\n",
    "            weight_update(wts,t[i],x[i])\n",
    "        else:\n",
    "            pass\n",
    "    epoch+=1\n",
    "    "
   ]
  },
  {
   "cell_type": "code",
   "execution_count": 19,
   "id": "5871c888-a232-48d5-b735-c52581fb6ee9",
   "metadata": {},
   "outputs": [],
   "source": [
    "#test cases\n",
    "def evenodd(x):\n",
    "    temp=to_binary(ord(x))\n",
    "    yin=0\n",
    "    for i in range(6):\n",
    "        yin+=temp[i]*wts[i]\n",
    "    if (caly(yin)==1):\n",
    "        print(\"even\")\n",
    "        return\n",
    "    else:\n",
    "        print(\"odd\")"
   ]
  },
  {
   "cell_type": "code",
   "execution_count": 20,
   "id": "a1cf4588-a647-4ff6-8f19-539890934feb",
   "metadata": {},
   "outputs": [
    {
     "name": "stdout",
     "output_type": "stream",
     "text": [
      "even\n"
     ]
    }
   ],
   "source": [
    "evenodd('2')"
   ]
  },
  {
   "cell_type": "code",
   "execution_count": 21,
   "id": "c42706e1-9250-4860-be6c-5ce693c40293",
   "metadata": {},
   "outputs": [
    {
     "name": "stdout",
     "output_type": "stream",
     "text": [
      "odd\n"
     ]
    }
   ],
   "source": [
    "evenodd('1')"
   ]
  },
  {
   "cell_type": "code",
   "execution_count": null,
   "id": "71bf6118-fcfe-44b0-a48b-0e7ed312129b",
   "metadata": {},
   "outputs": [],
   "source": []
  }
 ],
 "metadata": {
  "kernelspec": {
   "display_name": "Python 3 (ipykernel)",
   "language": "python",
   "name": "python3"
  },
  "language_info": {
   "codemirror_mode": {
    "name": "ipython",
    "version": 3
   },
   "file_extension": ".py",
   "mimetype": "text/x-python",
   "name": "python",
   "nbconvert_exporter": "python",
   "pygments_lexer": "ipython3",
   "version": "3.11.4"
  }
 },
 "nbformat": 4,
 "nbformat_minor": 5
}
