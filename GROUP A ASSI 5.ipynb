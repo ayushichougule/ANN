{
 "cells": [
  {
   "cell_type": "code",
   "execution_count": 1,
   "id": "8e5a9ea4-d03a-4025-b6ba-395d832829bb",
   "metadata": {},
   "outputs": [],
   "source": [
    "import numpy as np"
   ]
  },
  {
   "cell_type": "code",
   "execution_count": 2,
   "id": "33fd2c8c-5a94-46f7-aa31-9f76800b3628",
   "metadata": {},
   "outputs": [],
   "source": [
    "x=np.array([[1,1,1,-1],[-1,-1,1,1]])\n",
    "y=np.array([[1,-1],[-1,1]])"
   ]
  },
  {
   "cell_type": "code",
   "execution_count": 3,
   "id": "f5de82fe-827d-4d2f-bcd6-89a7eb10d906",
   "metadata": {},
   "outputs": [],
   "source": [
    "w=np.dot(y.T,x)"
   ]
  },
  {
   "cell_type": "code",
   "execution_count": 4,
   "id": "22ecdc04-cb99-422d-ba42-4dba4fdec28f",
   "metadata": {},
   "outputs": [],
   "source": [
    "def bam(x):\n",
    "    return np.sign(np.dot(w,x))"
   ]
  },
  {
   "cell_type": "code",
   "execution_count": 12,
   "id": "b1351cbc-e4b4-4f2f-9e6e-95d776415bba",
   "metadata": {},
   "outputs": [],
   "source": [
    "x_test=np.array([1,-1,-1,-1])\n",
    "y_test=bam(x_test)"
   ]
  },
  {
   "cell_type": "code",
   "execution_count": 13,
   "id": "74b5c34d-8dd7-4a86-b3b1-6fd9e1d571d4",
   "metadata": {},
   "outputs": [
    {
     "name": "stdout",
     "output_type": "stream",
     "text": [
      "[ 1 -1 -1 -1]\n",
      "[ 1 -1]\n"
     ]
    }
   ],
   "source": [
    "print(x_test)\n",
    "print(y_test)"
   ]
  },
  {
   "cell_type": "code",
   "execution_count": null,
   "id": "a233739c-cbd6-49bf-bc04-a46666f2a1f1",
   "metadata": {},
   "outputs": [],
   "source": []
  }
 ],
 "metadata": {
  "kernelspec": {
   "display_name": "Python 3 (ipykernel)",
   "language": "python",
   "name": "python3"
  },
  "language_info": {
   "codemirror_mode": {
    "name": "ipython",
    "version": 3
   },
   "file_extension": ".py",
   "mimetype": "text/x-python",
   "name": "python",
   "nbconvert_exporter": "python",
   "pygments_lexer": "ipython3",
   "version": "3.11.4"
  }
 },
 "nbformat": 4,
 "nbformat_minor": 5
}
